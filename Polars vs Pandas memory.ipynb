{
 "cells": [
  {
   "cell_type": "code",
   "execution_count": 1,
   "metadata": {},
   "outputs": [],
   "source": [
    "import pandas as pd\n",
    "import numpy as np\n",
    "import string\n",
    "import polars as pl"
   ]
  },
  {
   "cell_type": "code",
   "execution_count": 2,
   "metadata": {},
   "outputs": [],
   "source": [
    "num_rows = 2000000\n",
    "num_cols = 5\n",
    "str_lenght = 6\n",
    "num_dataframes = 1\n",
    "\n",
    "def make_df(num_rows: int, num_dtype, cat_dtype):\n",
    "    # Generate numerical data\n",
    "    numerical_data = np.random.randint(num_rows, size=(num_rows, 5))\n",
    "    numerical_headers = [f'num_col_{item}' for item in range(5)]\n",
    "\n",
    "    \n",
    "    # Generate categorical data, then add to dataframe\n",
    "    categories = np.random.choice(['A', 'B', 'C'], size=(num_rows, 3))\n",
    "    categorical_data = {f\"cat_col_{i}\": categories[:, i] for i in range(3)}\n",
    "    # Make df then coerce dtypes\n",
    "    df = pd.DataFrame().from_dict({**categorical_data})\n",
    "    df[numerical_headers] = pd.DataFrame(numerical_data).astype(num_dtype)\n",
    "    df[list(categorical_data.keys())] = df[list(categorical_data.keys())].astype(cat_dtype)\n",
    "    \n",
    "    return df\n",
    "\n",
    "def add_string_data(df, num_rows, num_cols, string_length, dtype):\n",
    "    # Define the length of each random string\n",
    "    random_chars = np.random.choice(list(string.ascii_letters), size=(num_rows, num_cols * string_length))\n",
    "    s_matrix = pd.DataFrame(random_chars.view('U' + str(string_length)).reshape(num_rows, num_cols), dtype=dtype)\n",
    "    s_columns = [f'str_col_{num}' for num in range(num_cols)]\n",
    "\n",
    "    df[s_columns] = s_matrix\n",
    "    return df\n",
    "\n",
    "def write_datasets_to_disk(num_dataframes):\n",
    "    keys = [f'dataset_{item}.parquet' for item in range(num_dataframes)]\n",
    "    df_dict = {\n",
    "        key: (make_df(num_rows, np.int64, 'category')\n",
    "            .pipe(add_string_data, num_rows, num_cols, str_lenght, 'object')\n",
    "            ) for key in keys\n",
    "        }\n",
    "    {key: df.to_parquet(key) for key, df in df_dict.items()}\n"
   ]
  },
  {
   "cell_type": "code",
   "execution_count": 3,
   "metadata": {},
   "outputs": [],
   "source": [
    "write_datasets_to_disk(1)"
   ]
  },
  {
   "cell_type": "code",
   "execution_count": 4,
   "metadata": {},
   "outputs": [],
   "source": [
    "df_np = pd.read_parquet('dataset_0.parquet', dtype_backend='numpy_nullable')\n",
    "df_pa = pd.read_parquet('dataset_0.parquet', dtype_backend='pyarrow')\n",
    "df_pl = pl.DataFrame(df_pa)"
   ]
  },
  {
   "cell_type": "markdown",
   "metadata": {},
   "source": [
    "## Sjekk minnebruk per enkeltvariabel"
   ]
  },
  {
   "cell_type": "code",
   "execution_count": 5,
   "metadata": {},
   "outputs": [
    {
     "data": {
      "text/plain": [
       "Index         0.000066\n",
       "cat_col_0     1.000141\n",
       "cat_col_1     1.000141\n",
       "cat_col_2     1.000141\n",
       "num_col_0     9.000000\n",
       "num_col_1     9.000000\n",
       "num_col_2     9.000000\n",
       "num_col_3     9.000000\n",
       "num_col_4     9.000000\n",
       "str_col_0    63.000000\n",
       "str_col_1    63.000000\n",
       "str_col_2    63.000000\n",
       "str_col_3    63.000000\n",
       "str_col_4    63.000000\n",
       "dtype: float64"
      ]
     },
     "execution_count": 5,
     "metadata": {},
     "output_type": "execute_result"
    }
   ],
   "source": [
    "np.divide(df_np.memory_usage(deep=True), len(df_np))"
   ]
  },
  {
   "cell_type": "code",
   "execution_count": 6,
   "metadata": {},
   "outputs": [
    {
     "data": {
      "text/plain": [
       "Index         0.000066\n",
       "cat_col_0     4.000120\n",
       "cat_col_1     4.000120\n",
       "cat_col_2     4.000120\n",
       "num_col_0     8.125000\n",
       "num_col_1     8.125000\n",
       "num_col_2     8.125000\n",
       "num_col_3     8.125000\n",
       "num_col_4     8.125000\n",
       "str_col_0    10.000000\n",
       "str_col_1    10.000000\n",
       "str_col_2    10.000000\n",
       "str_col_3    10.000000\n",
       "str_col_4    10.000000\n",
       "dtype: float64"
      ]
     },
     "execution_count": 6,
     "metadata": {},
     "output_type": "execute_result"
    }
   ],
   "source": [
    "np.divide(df_pa.memory_usage(deep=True), len(df_pa))"
   ]
  },
  {
   "cell_type": "code",
   "execution_count": 7,
   "metadata": {},
   "outputs": [
    {
     "data": {
      "text/plain": [
       "{'cat_col_0': 4.0000175,\n",
       " 'cat_col_1': 4.0000175,\n",
       " 'cat_col_2': 4.0000175,\n",
       " 'num_col_0': 8.0,\n",
       " 'num_col_1': 8.0,\n",
       " 'num_col_2': 8.0,\n",
       " 'num_col_3': 8.0,\n",
       " 'num_col_4': 8.0,\n",
       " 'str_col_0': 14.000004,\n",
       " 'str_col_1': 14.000004,\n",
       " 'str_col_2': 14.000004,\n",
       " 'str_col_3': 14.000004,\n",
       " 'str_col_4': 14.000004}"
      ]
     },
     "execution_count": 7,
     "metadata": {},
     "output_type": "execute_result"
    }
   ],
   "source": [
    "{col: np.divide(df_pl[col].estimated_size(), len(df_pl)) for col in df_pl.columns}"
   ]
  },
  {
   "cell_type": "markdown",
   "metadata": {},
   "source": [
    "## Total minnebruk"
   ]
  },
  {
   "cell_type": "code",
   "execution_count": 8,
   "metadata": {},
   "outputs": [
    {
     "data": {
      "text/plain": [
       "726000978"
      ]
     },
     "execution_count": 8,
     "metadata": {},
     "output_type": "execute_result"
    }
   ],
   "source": [
    "df_np.memory_usage(deep=True).sum()"
   ]
  },
  {
   "cell_type": "code",
   "execution_count": 9,
   "metadata": {},
   "outputs": [
    {
     "data": {
      "text/plain": [
       "205250852"
      ]
     },
     "execution_count": 9,
     "metadata": {},
     "output_type": "execute_result"
    }
   ],
   "source": [
    "df_pa.memory_usage(deep=True).sum()"
   ]
  },
  {
   "cell_type": "code",
   "execution_count": 10,
   "metadata": {},
   "outputs": [
    {
     "data": {
      "text/plain": [
       "244000145"
      ]
     },
     "execution_count": 10,
     "metadata": {},
     "output_type": "execute_result"
    }
   ],
   "source": [
    "df_pl.estimated_size()"
   ]
  }
 ],
 "metadata": {
  "kernelspec": {
   "display_name": "hovedbok_dev",
   "language": "python",
   "name": "python3"
  },
  "language_info": {
   "codemirror_mode": {
    "name": "ipython",
    "version": 3
   },
   "file_extension": ".py",
   "mimetype": "text/x-python",
   "name": "python",
   "nbconvert_exporter": "python",
   "pygments_lexer": "ipython3",
   "version": "3.11.5"
  }
 },
 "nbformat": 4,
 "nbformat_minor": 2
}
