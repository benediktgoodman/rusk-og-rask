{
 "cells": [
  {
   "cell_type": "code",
   "execution_count": 99,
   "metadata": {},
   "outputs": [],
   "source": [
    "import pandas as pd\n",
    "import numpy as np\n",
    "import string\n",
    "import polars as pl\n",
    "\n",
    "num_rows = 9000000\n",
    "num_cols = 4\n",
    "str_lenght = 5\n",
    "\n",
    "def make_df(num_rows: int, num_dtype, cat_dtype):\n",
    "    # Generate numerical data\n",
    "    numerical_data = np.random.randint(num_rows, size=(num_rows, 5))\n",
    "    numerical_headers = [f'num_col_{item}' for item in range(5)]\n",
    "\n",
    "    \n",
    "    # Generate categorical data, then add to dataframe\n",
    "    categories = np.random.choice(['A', 'B', 'C'], size=(num_rows, 3))\n",
    "    categorical_data = {f\"cat_col_{i}\": categories[:, i] for i in range(3)}\n",
    "    # Make df then coerce dtypes\n",
    "    df = pd.DataFrame().from_dict({**categorical_data})\n",
    "    df[numerical_headers] = pd.DataFrame(numerical_data).astype(num_dtype)\n",
    "    df[list(categorical_data.keys())] = df[list(categorical_data.keys())].astype(cat_dtype)\n",
    "    \n",
    "    return df\n",
    "\n",
    "def add_string_data(df, num_rows, num_cols, string_length, dtype):\n",
    "    # Define the length of each random string\n",
    "    random_chars = np.random.choice(list(string.ascii_letters), size=(num_rows, num_cols * string_length))\n",
    "    s_matrix = pd.DataFrame(random_chars.view('U' + str(string_length)).reshape(num_rows, num_cols), dtype=dtype)\n",
    "    s_columns = [f'str_col_{num}' for num in range(num_cols)]\n",
    "\n",
    "    df[s_columns] = s_matrix\n",
    "    return df\n",
    "\n",
    "df_arrow = make_df(num_rows, 'uint64[pyarrow]', 'category').pipe(add_string_data, num_rows, num_cols, str_lenght, 'string[pyarrow]')\n",
    "df_np = make_df(num_rows, np.int64, 'category').pipe(add_string_data, num_rows, num_cols, str_lenght, 'object')\n"
   ]
  },
  {
   "cell_type": "code",
   "execution_count": 100,
   "metadata": {},
   "outputs": [
    {
     "name": "stdout",
     "output_type": "stream",
     "text": [
      "<class 'pandas.core.frame.DataFrame'>\n",
      "RangeIndex: 9000000 entries, 0 to 8999999\n",
      "Data columns (total 12 columns):\n",
      " #   Column     Dtype          \n",
      "---  ------     -----          \n",
      " 0   cat_col_0  category       \n",
      " 1   cat_col_1  category       \n",
      " 2   cat_col_2  category       \n",
      " 3   num_col_0  uint64[pyarrow]\n",
      " 4   num_col_1  uint64[pyarrow]\n",
      " 5   num_col_2  uint64[pyarrow]\n",
      " 6   num_col_3  uint64[pyarrow]\n",
      " 7   num_col_4  uint64[pyarrow]\n",
      " 8   str_col_0  string         \n",
      " 9   str_col_1  string         \n",
      " 10  str_col_2  string         \n",
      " 11  str_col_3  string         \n",
      "dtypes: category(3), string(4), uint64[pyarrow](5)\n",
      "memory usage: 678.1 MB\n"
     ]
    }
   ],
   "source": [
    "df_arrow.info()"
   ]
  },
  {
   "cell_type": "code",
   "execution_count": 101,
   "metadata": {},
   "outputs": [
    {
     "name": "stdout",
     "output_type": "stream",
     "text": [
      "<class 'pandas.core.frame.DataFrame'>\n",
      "RangeIndex: 9000000 entries, 0 to 8999999\n",
      "Data columns (total 12 columns):\n",
      " #   Column     Dtype   \n",
      "---  ------     -----   \n",
      " 0   cat_col_0  category\n",
      " 1   cat_col_1  category\n",
      " 2   cat_col_2  category\n",
      " 3   num_col_0  int64   \n",
      " 4   num_col_1  int64   \n",
      " 5   num_col_2  int64   \n",
      " 6   num_col_3  int64   \n",
      " 7   num_col_4  int64   \n",
      " 8   str_col_0  object  \n",
      " 9   str_col_1  object  \n",
      " 10  str_col_2  object  \n",
      " 11  str_col_3  object  \n",
      "dtypes: category(3), int64(5), object(4)\n",
      "memory usage: 643.7+ MB\n"
     ]
    }
   ],
   "source": [
    "df_np.info()"
   ]
  },
  {
   "cell_type": "code",
   "execution_count": 102,
   "metadata": {},
   "outputs": [],
   "source": [
    "# Make polar lazy- and dataframe\n",
    "pf = pl.DataFrame(df_np)\n",
    "lf = pl.LazyFrame(df_np)"
   ]
  },
  {
   "cell_type": "code",
   "execution_count": 103,
   "metadata": {},
   "outputs": [
    {
     "data": {
      "text/html": [
       "<div><style>\n",
       ".dataframe > thead > tr > th,\n",
       ".dataframe > tbody > tr > td {\n",
       "  text-align: right;\n",
       "  white-space: pre-wrap;\n",
       "}\n",
       "</style>\n",
       "<small>shape: (5, 12)</small><table border=\"1\" class=\"dataframe\"><thead><tr><th>cat_col_0</th><th>cat_col_1</th><th>cat_col_2</th><th>num_col_0</th><th>num_col_1</th><th>num_col_2</th><th>num_col_3</th><th>num_col_4</th><th>str_col_0</th><th>str_col_1</th><th>str_col_2</th><th>str_col_3</th></tr><tr><td>cat</td><td>cat</td><td>cat</td><td>i64</td><td>i64</td><td>i64</td><td>i64</td><td>i64</td><td>str</td><td>str</td><td>str</td><td>str</td></tr></thead><tbody><tr><td>&quot;B&quot;</td><td>&quot;A&quot;</td><td>&quot;B&quot;</td><td>6384963</td><td>2070407</td><td>1212543</td><td>6269157</td><td>80888</td><td>&quot;VzTJP&quot;</td><td>&quot;hUZHs&quot;</td><td>&quot;YhFhX&quot;</td><td>&quot;OuiBm&quot;</td></tr><tr><td>&quot;A&quot;</td><td>&quot;A&quot;</td><td>&quot;C&quot;</td><td>8469874</td><td>1157160</td><td>1074855</td><td>3081276</td><td>7332521</td><td>&quot;vlmby&quot;</td><td>&quot;aezxX&quot;</td><td>&quot;ufGFk&quot;</td><td>&quot;pbsrU&quot;</td></tr><tr><td>&quot;B&quot;</td><td>&quot;A&quot;</td><td>&quot;B&quot;</td><td>7461676</td><td>3495433</td><td>8953809</td><td>6203175</td><td>3692838</td><td>&quot;PTPrT&quot;</td><td>&quot;RPRpb&quot;</td><td>&quot;RpKyh&quot;</td><td>&quot;ljekI&quot;</td></tr><tr><td>&quot;B&quot;</td><td>&quot;A&quot;</td><td>&quot;C&quot;</td><td>5294404</td><td>7864598</td><td>6824553</td><td>5676433</td><td>3753246</td><td>&quot;DjzSA&quot;</td><td>&quot;Snaju&quot;</td><td>&quot;vgmkJ&quot;</td><td>&quot;YmrrW&quot;</td></tr><tr><td>&quot;C&quot;</td><td>&quot;C&quot;</td><td>&quot;B&quot;</td><td>7024990</td><td>6165127</td><td>6498646</td><td>7205152</td><td>4116379</td><td>&quot;tLWtW&quot;</td><td>&quot;XMjan&quot;</td><td>&quot;ALmiw&quot;</td><td>&quot;ZnEdq&quot;</td></tr></tbody></table></div>"
      ],
      "text/plain": [
       "shape: (5, 12)\n",
       "┌───────────┬───────────┬───────────┬───────────┬───┬───────────┬───────────┬───────────┬──────────┐\n",
       "│ cat_col_0 ┆ cat_col_1 ┆ cat_col_2 ┆ num_col_0 ┆ … ┆ str_col_0 ┆ str_col_1 ┆ str_col_2 ┆ str_col_ │\n",
       "│ ---       ┆ ---       ┆ ---       ┆ ---       ┆   ┆ ---       ┆ ---       ┆ ---       ┆ 3        │\n",
       "│ cat       ┆ cat       ┆ cat       ┆ i64       ┆   ┆ str       ┆ str       ┆ str       ┆ ---      │\n",
       "│           ┆           ┆           ┆           ┆   ┆           ┆           ┆           ┆ str      │\n",
       "╞═══════════╪═══════════╪═══════════╪═══════════╪═══╪═══════════╪═══════════╪═══════════╪══════════╡\n",
       "│ B         ┆ A         ┆ B         ┆ 6384963   ┆ … ┆ VzTJP     ┆ hUZHs     ┆ YhFhX     ┆ OuiBm    │\n",
       "│ A         ┆ A         ┆ C         ┆ 8469874   ┆ … ┆ vlmby     ┆ aezxX     ┆ ufGFk     ┆ pbsrU    │\n",
       "│ B         ┆ A         ┆ B         ┆ 7461676   ┆ … ┆ PTPrT     ┆ RPRpb     ┆ RpKyh     ┆ ljekI    │\n",
       "│ B         ┆ A         ┆ C         ┆ 5294404   ┆ … ┆ DjzSA     ┆ Snaju     ┆ vgmkJ     ┆ YmrrW    │\n",
       "│ C         ┆ C         ┆ B         ┆ 7024990   ┆ … ┆ tLWtW     ┆ XMjan     ┆ ALmiw     ┆ ZnEdq    │\n",
       "└───────────┴───────────┴───────────┴───────────┴───┴───────────┴───────────┴───────────┴──────────┘"
      ]
     },
     "execution_count": 103,
     "metadata": {},
     "output_type": "execute_result"
    }
   ],
   "source": [
    "# Show dtypes\n",
    "pf.head()"
   ]
  },
  {
   "cell_type": "code",
   "execution_count": 104,
   "metadata": {},
   "outputs": [
    {
     "data": {
      "text/html": [
       "<div><style>\n",
       ".dataframe > thead > tr > th,\n",
       ".dataframe > tbody > tr > td {\n",
       "  text-align: right;\n",
       "  white-space: pre-wrap;\n",
       "}\n",
       "</style>\n",
       "<small>shape: (5, 12)</small><table border=\"1\" class=\"dataframe\"><thead><tr><th>cat_col_0</th><th>cat_col_1</th><th>cat_col_2</th><th>num_col_0</th><th>num_col_1</th><th>num_col_2</th><th>num_col_3</th><th>num_col_4</th><th>str_col_0</th><th>str_col_1</th><th>str_col_2</th><th>str_col_3</th></tr><tr><td>cat</td><td>cat</td><td>cat</td><td>i64</td><td>i64</td><td>i64</td><td>i64</td><td>i64</td><td>str</td><td>str</td><td>str</td><td>str</td></tr></thead><tbody><tr><td>&quot;B&quot;</td><td>&quot;A&quot;</td><td>&quot;B&quot;</td><td>6384963</td><td>2070407</td><td>1212543</td><td>6269157</td><td>80888</td><td>&quot;VzTJP&quot;</td><td>&quot;hUZHs&quot;</td><td>&quot;YhFhX&quot;</td><td>&quot;OuiBm&quot;</td></tr><tr><td>&quot;A&quot;</td><td>&quot;A&quot;</td><td>&quot;C&quot;</td><td>8469874</td><td>1157160</td><td>1074855</td><td>3081276</td><td>7332521</td><td>&quot;vlmby&quot;</td><td>&quot;aezxX&quot;</td><td>&quot;ufGFk&quot;</td><td>&quot;pbsrU&quot;</td></tr><tr><td>&quot;B&quot;</td><td>&quot;A&quot;</td><td>&quot;B&quot;</td><td>7461676</td><td>3495433</td><td>8953809</td><td>6203175</td><td>3692838</td><td>&quot;PTPrT&quot;</td><td>&quot;RPRpb&quot;</td><td>&quot;RpKyh&quot;</td><td>&quot;ljekI&quot;</td></tr><tr><td>&quot;B&quot;</td><td>&quot;A&quot;</td><td>&quot;C&quot;</td><td>5294404</td><td>7864598</td><td>6824553</td><td>5676433</td><td>3753246</td><td>&quot;DjzSA&quot;</td><td>&quot;Snaju&quot;</td><td>&quot;vgmkJ&quot;</td><td>&quot;YmrrW&quot;</td></tr><tr><td>&quot;C&quot;</td><td>&quot;C&quot;</td><td>&quot;B&quot;</td><td>7024990</td><td>6165127</td><td>6498646</td><td>7205152</td><td>4116379</td><td>&quot;tLWtW&quot;</td><td>&quot;XMjan&quot;</td><td>&quot;ALmiw&quot;</td><td>&quot;ZnEdq&quot;</td></tr></tbody></table></div>"
      ],
      "text/plain": [
       "shape: (5, 12)\n",
       "┌───────────┬───────────┬───────────┬───────────┬───┬───────────┬───────────┬───────────┬──────────┐\n",
       "│ cat_col_0 ┆ cat_col_1 ┆ cat_col_2 ┆ num_col_0 ┆ … ┆ str_col_0 ┆ str_col_1 ┆ str_col_2 ┆ str_col_ │\n",
       "│ ---       ┆ ---       ┆ ---       ┆ ---       ┆   ┆ ---       ┆ ---       ┆ ---       ┆ 3        │\n",
       "│ cat       ┆ cat       ┆ cat       ┆ i64       ┆   ┆ str       ┆ str       ┆ str       ┆ ---      │\n",
       "│           ┆           ┆           ┆           ┆   ┆           ┆           ┆           ┆ str      │\n",
       "╞═══════════╪═══════════╪═══════════╪═══════════╪═══╪═══════════╪═══════════╪═══════════╪══════════╡\n",
       "│ B         ┆ A         ┆ B         ┆ 6384963   ┆ … ┆ VzTJP     ┆ hUZHs     ┆ YhFhX     ┆ OuiBm    │\n",
       "│ A         ┆ A         ┆ C         ┆ 8469874   ┆ … ┆ vlmby     ┆ aezxX     ┆ ufGFk     ┆ pbsrU    │\n",
       "│ B         ┆ A         ┆ B         ┆ 7461676   ┆ … ┆ PTPrT     ┆ RPRpb     ┆ RpKyh     ┆ ljekI    │\n",
       "│ B         ┆ A         ┆ C         ┆ 5294404   ┆ … ┆ DjzSA     ┆ Snaju     ┆ vgmkJ     ┆ YmrrW    │\n",
       "│ C         ┆ C         ┆ B         ┆ 7024990   ┆ … ┆ tLWtW     ┆ XMjan     ┆ ALmiw     ┆ ZnEdq    │\n",
       "└───────────┴───────────┴───────────┴───────────┴───┴───────────┴───────────┴───────────┴──────────┘"
      ]
     },
     "execution_count": 104,
     "metadata": {},
     "output_type": "execute_result"
    }
   ],
   "source": [
    "lf.head().collect()"
   ]
  },
  {
   "cell_type": "markdown",
   "metadata": {},
   "source": [
    "### Sortering av kolonner"
   ]
  },
  {
   "cell_type": "code",
   "execution_count": 105,
   "metadata": {},
   "outputs": [],
   "source": [
    "cols=['num_col_0','str_col_1'] # columns to be used for sorting"
   ]
  },
  {
   "cell_type": "code",
   "execution_count": 106,
   "metadata": {},
   "outputs": [
    {
     "name": "stdout",
     "output_type": "stream",
     "text": [
      "46.8 s ± 720 ms per loop (mean ± std. dev. of 7 runs, 1 loop each)\n"
     ]
    }
   ],
   "source": [
    "%%timeit\n",
    "df_np.sort_values(by=cols,ascending=True)"
   ]
  },
  {
   "cell_type": "code",
   "execution_count": 107,
   "metadata": {},
   "outputs": [
    {
     "name": "stdout",
     "output_type": "stream",
     "text": [
      "30.1 s ± 7.24 s per loop (mean ± std. dev. of 7 runs, 1 loop each)\n"
     ]
    }
   ],
   "source": [
    "%%timeit\n",
    "df_arrow.sort_values(by=cols,ascending=True)"
   ]
  },
  {
   "cell_type": "code",
   "execution_count": 108,
   "metadata": {},
   "outputs": [
    {
     "name": "stdout",
     "output_type": "stream",
     "text": [
      "2.13 s ± 142 ms per loop (mean ± std. dev. of 7 runs, 1 loop each)\n"
     ]
    }
   ],
   "source": [
    "%%timeit\n",
    "pf.sort(cols,descending=False)"
   ]
  },
  {
   "cell_type": "code",
   "execution_count": 109,
   "metadata": {},
   "outputs": [
    {
     "name": "stdout",
     "output_type": "stream",
     "text": [
      "11.5 µs ± 1.45 µs per loop (mean ± std. dev. of 7 runs, 100,000 loops each)\n"
     ]
    }
   ],
   "source": [
    "%%timeit\n",
    "lf.sort(by=cols, descending=False)"
   ]
  },
  {
   "cell_type": "code",
   "execution_count": 110,
   "metadata": {},
   "outputs": [
    {
     "name": "stdout",
     "output_type": "stream",
     "text": [
      "2.14 s ± 84 ms per loop (mean ± std. dev. of 7 runs, 1 loop each)\n"
     ]
    }
   ],
   "source": [
    "%%timeit\n",
    "lf.sort(by=cols, descending=False).collect()"
   ]
  },
  {
   "cell_type": "code",
   "execution_count": 111,
   "metadata": {},
   "outputs": [
    {
     "name": "stdout",
     "output_type": "stream",
     "text": [
      "23 µs ± 2.19 µs per loop (mean ± std. dev. of 7 runs, 10,000 loops each)\n"
     ]
    }
   ],
   "source": [
    "%%timeit\n",
    "lf.sort(by=cols, descending=False).sort(by=['cat_col_1', 'str_col_3'], descending=False).collect()"
   ]
  },
  {
   "cell_type": "markdown",
   "metadata": {},
   "source": [
    "### Filtrering"
   ]
  },
  {
   "cell_type": "code",
   "execution_count": 112,
   "metadata": {},
   "outputs": [],
   "source": [
    "# Pick out datasets\n",
    "num_cols = df_np.columns[df_np.columns.str.contains('num')].to_list()\n",
    "cat_cols = df_np.columns[df_np.columns.str.contains('cat')].to_list()\n",
    "str_cols = df_np.columns[df_np.columns.str.contains('str')].to_list()"
   ]
  },
  {
   "cell_type": "markdown",
   "metadata": {},
   "source": [
    "Hvor mange unike strings finnes i dataene i rader der num_col_1 er mindre enn 10000?"
   ]
  },
  {
   "cell_type": "code",
   "execution_count": 113,
   "metadata": {},
   "outputs": [
    {
     "name": "stdout",
     "output_type": "stream",
     "text": [
      "1.71 s ± 181 ms per loop (mean ± std. dev. of 7 runs, 1 loop each)\n"
     ]
    }
   ],
   "source": [
    "%%timeit\n",
    "df_np.loc[df_np['num_col_1']<=10000, str_cols].nunique()"
   ]
  },
  {
   "cell_type": "code",
   "execution_count": 114,
   "metadata": {},
   "outputs": [
    {
     "name": "stdout",
     "output_type": "stream",
     "text": [
      "67.3 ms ± 3.78 ms per loop (mean ± std. dev. of 7 runs, 10 loops each)\n"
     ]
    }
   ],
   "source": [
    "%%timeit\n",
    "df_arrow.loc[df_arrow['num_col_1']<=10000, str_cols].nunique()"
   ]
  },
  {
   "cell_type": "code",
   "execution_count": 115,
   "metadata": {},
   "outputs": [
    {
     "name": "stdout",
     "output_type": "stream",
     "text": [
      "13.8 ms ± 380 µs per loop (mean ± std. dev. of 7 runs, 100 loops each)\n"
     ]
    }
   ],
   "source": [
    "%%timeit\n",
    "pf.filter(pl.col(\"num_col_1\") <= 10000).select(pl.col(str_cols).n_unique()) "
   ]
  },
  {
   "cell_type": "code",
   "execution_count": 116,
   "metadata": {},
   "outputs": [
    {
     "name": "stdout",
     "output_type": "stream",
     "text": [
      "12.3 ms ± 278 µs per loop (mean ± std. dev. of 7 runs, 100 loops each)\n"
     ]
    }
   ],
   "source": [
    "%%timeit\n",
    "lf.filter(pl.col(\"num_col_1\") <= 10000).select(pl.col(str_cols).n_unique()).collect()"
   ]
  },
  {
   "cell_type": "markdown",
   "metadata": {},
   "source": [
    "Hva er gjennomsnittsverdiene for tallkolonnene for kategori A og kategori B?"
   ]
  },
  {
   "cell_type": "code",
   "execution_count": 117,
   "metadata": {},
   "outputs": [
    {
     "name": "stdout",
     "output_type": "stream",
     "text": [
      "233 ms ± 13.1 ms per loop (mean ± std. dev. of 7 runs, 1 loop each)\n"
     ]
    }
   ],
   "source": [
    "%%timeit\n",
    "mask = ((df_np['cat_col_1'] == 'A') & (df_np['cat_col_2'] == 'B'))\n",
    "df_np.loc[mask, num_cols].mean()"
   ]
  },
  {
   "cell_type": "code",
   "execution_count": 118,
   "metadata": {},
   "outputs": [
    {
     "name": "stdout",
     "output_type": "stream",
     "text": [
      "63 ms ± 1.43 ms per loop (mean ± std. dev. of 7 runs, 10 loops each)\n"
     ]
    }
   ],
   "source": [
    "%%timeit\n",
    "mask = ((df_arrow['cat_col_1'] == 'A') & (df_arrow['cat_col_2'] == 'B'))\n",
    "df_arrow.loc[mask, num_cols].mean()"
   ]
  },
  {
   "cell_type": "code",
   "execution_count": 119,
   "metadata": {},
   "outputs": [
    {
     "name": "stdout",
     "output_type": "stream",
     "text": [
      "99.3 ms ± 8.44 ms per loop (mean ± std. dev. of 7 runs, 10 loops each)\n"
     ]
    }
   ],
   "source": [
    "%%timeit\n",
    "(pf.filter(pl.col(\"cat_col_1\") == 'A',\n",
    "          pl.col('cat_col_2') == 'B')\n",
    " .select(pl.col(num_cols).mean()))"
   ]
  },
  {
   "cell_type": "code",
   "execution_count": 120,
   "metadata": {},
   "outputs": [
    {
     "name": "stdout",
     "output_type": "stream",
     "text": [
      "33.1 ms ± 6.82 ms per loop (mean ± std. dev. of 7 runs, 10 loops each)\n"
     ]
    }
   ],
   "source": [
    "%%timeit\n",
    "(lf.filter(pl.col(\"cat_col_1\") == 'A',\n",
    "          pl.col('cat_col_2') == 'B')\n",
    " .select(pl.col(num_cols).mean()).collect())"
   ]
  },
  {
   "cell_type": "markdown",
   "metadata": {},
   "source": [
    "### Grupperinger og aggregering"
   ]
  },
  {
   "cell_type": "code",
   "execution_count": 121,
   "metadata": {},
   "outputs": [
    {
     "name": "stdout",
     "output_type": "stream",
     "text": [
      "538 ms ± 20.2 ms per loop (mean ± std. dev. of 7 runs, 1 loop each)\n"
     ]
    }
   ],
   "source": [
    "%%timeit\n",
    "df_np.groupby(cat_cols, observed=False)[num_cols].sum() "
   ]
  },
  {
   "cell_type": "code",
   "execution_count": 123,
   "metadata": {},
   "outputs": [
    {
     "name": "stdout",
     "output_type": "stream",
     "text": [
      "530 ms ± 31.9 ms per loop (mean ± std. dev. of 7 runs, 1 loop each)\n"
     ]
    }
   ],
   "source": [
    "%%timeit\n",
    "df_arrow.groupby(cat_cols, observed=False)[num_cols].sum() "
   ]
  },
  {
   "cell_type": "code",
   "execution_count": 125,
   "metadata": {},
   "outputs": [
    {
     "name": "stdout",
     "output_type": "stream",
     "text": [
      "293 ms ± 42.5 ms per loop (mean ± std. dev. of 7 runs, 1 loop each)\n"
     ]
    }
   ],
   "source": [
    "%%timeit\n",
    "pf.group_by(cat_cols).agg(pl.col(num_cols).sum())"
   ]
  },
  {
   "cell_type": "code",
   "execution_count": 127,
   "metadata": {},
   "outputs": [
    {
     "name": "stdout",
     "output_type": "stream",
     "text": [
      "272 ms ± 8.03 ms per loop (mean ± std. dev. of 7 runs, 1 loop each)\n"
     ]
    }
   ],
   "source": [
    "%%timeit\n",
    "lf.group_by(cat_cols).agg(pl.col(num_cols).sum()).collect()"
   ]
  },
  {
   "cell_type": "code",
   "execution_count": 122,
   "metadata": {},
   "outputs": [
    {
     "name": "stdout",
     "output_type": "stream",
     "text": [
      "1.94 s ± 110 ms per loop (mean ± std. dev. of 7 runs, 1 loop each)\n"
     ]
    }
   ],
   "source": [
    "%%timeit\n",
    "df_np.groupby(cat_cols, observed=False)[str_cols].agg('count')"
   ]
  },
  {
   "cell_type": "code",
   "execution_count": 124,
   "metadata": {},
   "outputs": [
    {
     "name": "stdout",
     "output_type": "stream",
     "text": [
      "385 ms ± 18.8 ms per loop (mean ± std. dev. of 7 runs, 1 loop each)\n"
     ]
    }
   ],
   "source": [
    "%%timeit\n",
    "df_arrow.groupby(cat_cols, observed=False)[str_cols].agg('count')"
   ]
  },
  {
   "cell_type": "code",
   "execution_count": 126,
   "metadata": {},
   "outputs": [
    {
     "name": "stdout",
     "output_type": "stream",
     "text": [
      "136 ms ± 8.59 ms per loop (mean ± std. dev. of 7 runs, 10 loops each)\n"
     ]
    }
   ],
   "source": [
    "%%timeit\n",
    "pf.group_by(cat_cols).agg(pl.col(str_cols).count()) "
   ]
  },
  {
   "cell_type": "code",
   "execution_count": 128,
   "metadata": {},
   "outputs": [
    {
     "name": "stdout",
     "output_type": "stream",
     "text": [
      "136 ms ± 6.84 ms per loop (mean ± std. dev. of 7 runs, 10 loops each)\n"
     ]
    }
   ],
   "source": [
    "%%timeit\n",
    "lf.group_by(cat_cols).agg(pl.col(str_cols).count()).collect() "
   ]
  },
  {
   "cell_type": "code",
   "execution_count": null,
   "metadata": {},
   "outputs": [],
   "source": []
  }
 ],
 "metadata": {
  "kernelspec": {
   "display_name": "hovedbok_dev",
   "language": "python",
   "name": "python3"
  },
  "language_info": {
   "codemirror_mode": {
    "name": "ipython",
    "version": 3
   },
   "file_extension": ".py",
   "mimetype": "text/x-python",
   "name": "python",
   "nbconvert_exporter": "python",
   "pygments_lexer": "ipython3",
   "version": "3.11.5"
  }
 },
 "nbformat": 4,
 "nbformat_minor": 2
}
